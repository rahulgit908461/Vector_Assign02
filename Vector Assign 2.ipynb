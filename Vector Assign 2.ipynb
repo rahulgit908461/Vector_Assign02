{
 "cells": [
  {
   "cell_type": "code",
   "execution_count": 1,
   "id": "a9fec90d-bc9a-4a39-81ce-118f937f938d",
   "metadata": {},
   "outputs": [],
   "source": [
    "#Q1. What is the relationship between polynomial functions and kernel functions in machine learning\n",
    "#algorithms?"
   ]
  },
  {
   "cell_type": "code",
   "execution_count": 2,
   "id": "6f48ad15-5cc9-4d04-ba7e-fd5e5efa67dc",
   "metadata": {},
   "outputs": [],
   "source": [
    "#The kernel function is what is applied on each data instance to map the original non-linear observations into\n",
    "#a higher-dimensional space.\n",
    "#In machine learning, the polynomial kernel is a kernel function commonly used with support vector machines (SVMs)\n",
    "#and other kernelized models, that represents the similarity of vectors (training samples) in a feature space over\n",
    "#polynomials of the original variables, allowing learning of non-linear models."
   ]
  },
  {
   "cell_type": "code",
   "execution_count": 3,
   "id": "9d5809d6-93e8-45dc-bd52-2f22665fd70b",
   "metadata": {},
   "outputs": [],
   "source": [
    "#Q2. How can we implement an SVM with a polynomial kernel in Python using Scikit-learn?"
   ]
  },
  {
   "cell_type": "code",
   "execution_count": 4,
   "id": "dc8a004b-5a3c-428e-b8e1-7be0874275cd",
   "metadata": {},
   "outputs": [],
   "source": [
    "#Importing the necessary libraries.\n",
    "#import numpy as np.\n",
    "#from sklearn. datasets import load_digits.\n",
    "#from sklearn. model_selection import train_test_split.\n",
    "#from sklearn. svm import SVC.\n",
    "#from sklearn.\n",
    "# Importing the dataset from the sklearn library into a local variable called dataset."
   ]
  },
  {
   "cell_type": "code",
   "execution_count": 5,
   "id": "7f967b06-50a7-4bc0-9ac1-93623e7de00b",
   "metadata": {},
   "outputs": [],
   "source": [
    "#Q3. How does increasing the value of epsilon affect the number of support vectors in SVR?"
   ]
  },
  {
   "cell_type": "code",
   "execution_count": 6,
   "id": "22f82e89-8880-40b6-ba84-03f9e448af3a",
   "metadata": {},
   "outputs": [],
   "source": [
    "#Parameter ε controls the width of the ε-insensitive zone, used to fit the training data. The value of ε can \n",
    "#affect the number of support vectors used to construct the regression function. The bigger ε, the fewer support\n",
    "#vectors are selected. On the other hand, bigger ε-values results in more flat estimates."
   ]
  },
  {
   "cell_type": "code",
   "execution_count": 7,
   "id": "3a066cbc-e2c4-4177-9a5d-a73d7241a00c",
   "metadata": {},
   "outputs": [],
   "source": [
    "#Q4. How does the choice of kernel function, C parameter, epsilon parameter, and gamma parameter\n",
    "#affect the performance of Support Vector Regression (SVR)? Can you explain how each parameter works\n",
    "#and provide examples of when you might want to increase or decrease its value?"
   ]
  },
  {
   "cell_type": "code",
   "execution_count": 8,
   "id": "2f38c955-99f4-4868-a1ba-5f8a35c4eb60",
   "metadata": {},
   "outputs": [],
   "source": [
    "#The linear kernel is mostly preferred for text classification problems as it performs well for large datasets.\n",
    "#Gaussian kernels tend to give good results when there is no additional information regarding data that is not\n",
    "#available.\n",
    "#One can tune the SVM by changing the parameters \\(C, \\gamma\\) and the kernel function. The function for tuning \n",
    "#the parameters available in scikit-learn is called gridSearchCV(). Parameters of this function are defined \n",
    "#as: estimator: It is the estimator object which is svm.\n",
    "#we use the following hyperparameter values for the SVR model: epsilon = 10, C = 1. As explained before, epsilon\n",
    "#defines the width of the tube around the hyperplane. Meanwhile, regularization parameter C allows us to assign the\n",
    "#weight to “slack,” telling the algorithm how much we care about the error.\n",
    "#One can tune the SVM by changing the parameters \\(C, \\gamma\\) and the kernel function. The function for tuning \n",
    "#the parameters available in scikit-learn is called gridSearchCV(). Parameters of this function are defined \n",
    "#as: estimator: It is the estimator object which is svm."
   ]
  },
  {
   "cell_type": "code",
   "execution_count": 9,
   "id": "27f6d143-7944-4599-8941-7cb063409eeb",
   "metadata": {},
   "outputs": [],
   "source": [
    "#Q5. Assignment:"
   ]
  },
  {
   "cell_type": "code",
   "execution_count": 10,
   "id": "6979ea6a-9af2-43ef-8a2c-7ca5c8669d9d",
   "metadata": {},
   "outputs": [],
   "source": [
    "#QImport the necessary libraries and load the dataseg"
   ]
  },
  {
   "cell_type": "code",
   "execution_count": 11,
   "id": "8fc36e0d-b42f-4c18-a94e-012e49026c19",
   "metadata": {},
   "outputs": [],
   "source": [
    "import pandas as pd\n",
    "import numpy as np\n",
    "import seaborn as sns\n",
    "import matplotlib.pyplot as plt\n",
    "%matplotlib inline"
   ]
  },
  {
   "cell_type": "code",
   "execution_count": 113,
   "id": "7d08edf4-022c-45dc-9be3-5b7f7190e3af",
   "metadata": {},
   "outputs": [],
   "source": [
    "#Q Import the necessary libraries and load the dataseg"
   ]
  },
  {
   "cell_type": "code",
   "execution_count": 114,
   "id": "b830762c-6dc9-4c54-a38e-83c59aac40a1",
   "metadata": {},
   "outputs": [],
   "source": [
    "from sklearn.datasets import load_iris"
   ]
  },
  {
   "cell_type": "code",
   "execution_count": 115,
   "id": "65959d5c-8d57-476e-8a3e-bda0876f05bd",
   "metadata": {},
   "outputs": [],
   "source": [
    "data = load_iris()"
   ]
  },
  {
   "cell_type": "code",
   "execution_count": 116,
   "id": "1d1fa9bb-5748-4e13-839a-ce2973aa3ac1",
   "metadata": {},
   "outputs": [
    {
     "data": {
      "text/plain": [
       "{'data': array([[5.1, 3.5, 1.4, 0.2],\n",
       "        [4.9, 3. , 1.4, 0.2],\n",
       "        [4.7, 3.2, 1.3, 0.2],\n",
       "        [4.6, 3.1, 1.5, 0.2],\n",
       "        [5. , 3.6, 1.4, 0.2],\n",
       "        [5.4, 3.9, 1.7, 0.4],\n",
       "        [4.6, 3.4, 1.4, 0.3],\n",
       "        [5. , 3.4, 1.5, 0.2],\n",
       "        [4.4, 2.9, 1.4, 0.2],\n",
       "        [4.9, 3.1, 1.5, 0.1],\n",
       "        [5.4, 3.7, 1.5, 0.2],\n",
       "        [4.8, 3.4, 1.6, 0.2],\n",
       "        [4.8, 3. , 1.4, 0.1],\n",
       "        [4.3, 3. , 1.1, 0.1],\n",
       "        [5.8, 4. , 1.2, 0.2],\n",
       "        [5.7, 4.4, 1.5, 0.4],\n",
       "        [5.4, 3.9, 1.3, 0.4],\n",
       "        [5.1, 3.5, 1.4, 0.3],\n",
       "        [5.7, 3.8, 1.7, 0.3],\n",
       "        [5.1, 3.8, 1.5, 0.3],\n",
       "        [5.4, 3.4, 1.7, 0.2],\n",
       "        [5.1, 3.7, 1.5, 0.4],\n",
       "        [4.6, 3.6, 1. , 0.2],\n",
       "        [5.1, 3.3, 1.7, 0.5],\n",
       "        [4.8, 3.4, 1.9, 0.2],\n",
       "        [5. , 3. , 1.6, 0.2],\n",
       "        [5. , 3.4, 1.6, 0.4],\n",
       "        [5.2, 3.5, 1.5, 0.2],\n",
       "        [5.2, 3.4, 1.4, 0.2],\n",
       "        [4.7, 3.2, 1.6, 0.2],\n",
       "        [4.8, 3.1, 1.6, 0.2],\n",
       "        [5.4, 3.4, 1.5, 0.4],\n",
       "        [5.2, 4.1, 1.5, 0.1],\n",
       "        [5.5, 4.2, 1.4, 0.2],\n",
       "        [4.9, 3.1, 1.5, 0.2],\n",
       "        [5. , 3.2, 1.2, 0.2],\n",
       "        [5.5, 3.5, 1.3, 0.2],\n",
       "        [4.9, 3.6, 1.4, 0.1],\n",
       "        [4.4, 3. , 1.3, 0.2],\n",
       "        [5.1, 3.4, 1.5, 0.2],\n",
       "        [5. , 3.5, 1.3, 0.3],\n",
       "        [4.5, 2.3, 1.3, 0.3],\n",
       "        [4.4, 3.2, 1.3, 0.2],\n",
       "        [5. , 3.5, 1.6, 0.6],\n",
       "        [5.1, 3.8, 1.9, 0.4],\n",
       "        [4.8, 3. , 1.4, 0.3],\n",
       "        [5.1, 3.8, 1.6, 0.2],\n",
       "        [4.6, 3.2, 1.4, 0.2],\n",
       "        [5.3, 3.7, 1.5, 0.2],\n",
       "        [5. , 3.3, 1.4, 0.2],\n",
       "        [7. , 3.2, 4.7, 1.4],\n",
       "        [6.4, 3.2, 4.5, 1.5],\n",
       "        [6.9, 3.1, 4.9, 1.5],\n",
       "        [5.5, 2.3, 4. , 1.3],\n",
       "        [6.5, 2.8, 4.6, 1.5],\n",
       "        [5.7, 2.8, 4.5, 1.3],\n",
       "        [6.3, 3.3, 4.7, 1.6],\n",
       "        [4.9, 2.4, 3.3, 1. ],\n",
       "        [6.6, 2.9, 4.6, 1.3],\n",
       "        [5.2, 2.7, 3.9, 1.4],\n",
       "        [5. , 2. , 3.5, 1. ],\n",
       "        [5.9, 3. , 4.2, 1.5],\n",
       "        [6. , 2.2, 4. , 1. ],\n",
       "        [6.1, 2.9, 4.7, 1.4],\n",
       "        [5.6, 2.9, 3.6, 1.3],\n",
       "        [6.7, 3.1, 4.4, 1.4],\n",
       "        [5.6, 3. , 4.5, 1.5],\n",
       "        [5.8, 2.7, 4.1, 1. ],\n",
       "        [6.2, 2.2, 4.5, 1.5],\n",
       "        [5.6, 2.5, 3.9, 1.1],\n",
       "        [5.9, 3.2, 4.8, 1.8],\n",
       "        [6.1, 2.8, 4. , 1.3],\n",
       "        [6.3, 2.5, 4.9, 1.5],\n",
       "        [6.1, 2.8, 4.7, 1.2],\n",
       "        [6.4, 2.9, 4.3, 1.3],\n",
       "        [6.6, 3. , 4.4, 1.4],\n",
       "        [6.8, 2.8, 4.8, 1.4],\n",
       "        [6.7, 3. , 5. , 1.7],\n",
       "        [6. , 2.9, 4.5, 1.5],\n",
       "        [5.7, 2.6, 3.5, 1. ],\n",
       "        [5.5, 2.4, 3.8, 1.1],\n",
       "        [5.5, 2.4, 3.7, 1. ],\n",
       "        [5.8, 2.7, 3.9, 1.2],\n",
       "        [6. , 2.7, 5.1, 1.6],\n",
       "        [5.4, 3. , 4.5, 1.5],\n",
       "        [6. , 3.4, 4.5, 1.6],\n",
       "        [6.7, 3.1, 4.7, 1.5],\n",
       "        [6.3, 2.3, 4.4, 1.3],\n",
       "        [5.6, 3. , 4.1, 1.3],\n",
       "        [5.5, 2.5, 4. , 1.3],\n",
       "        [5.5, 2.6, 4.4, 1.2],\n",
       "        [6.1, 3. , 4.6, 1.4],\n",
       "        [5.8, 2.6, 4. , 1.2],\n",
       "        [5. , 2.3, 3.3, 1. ],\n",
       "        [5.6, 2.7, 4.2, 1.3],\n",
       "        [5.7, 3. , 4.2, 1.2],\n",
       "        [5.7, 2.9, 4.2, 1.3],\n",
       "        [6.2, 2.9, 4.3, 1.3],\n",
       "        [5.1, 2.5, 3. , 1.1],\n",
       "        [5.7, 2.8, 4.1, 1.3],\n",
       "        [6.3, 3.3, 6. , 2.5],\n",
       "        [5.8, 2.7, 5.1, 1.9],\n",
       "        [7.1, 3. , 5.9, 2.1],\n",
       "        [6.3, 2.9, 5.6, 1.8],\n",
       "        [6.5, 3. , 5.8, 2.2],\n",
       "        [7.6, 3. , 6.6, 2.1],\n",
       "        [4.9, 2.5, 4.5, 1.7],\n",
       "        [7.3, 2.9, 6.3, 1.8],\n",
       "        [6.7, 2.5, 5.8, 1.8],\n",
       "        [7.2, 3.6, 6.1, 2.5],\n",
       "        [6.5, 3.2, 5.1, 2. ],\n",
       "        [6.4, 2.7, 5.3, 1.9],\n",
       "        [6.8, 3. , 5.5, 2.1],\n",
       "        [5.7, 2.5, 5. , 2. ],\n",
       "        [5.8, 2.8, 5.1, 2.4],\n",
       "        [6.4, 3.2, 5.3, 2.3],\n",
       "        [6.5, 3. , 5.5, 1.8],\n",
       "        [7.7, 3.8, 6.7, 2.2],\n",
       "        [7.7, 2.6, 6.9, 2.3],\n",
       "        [6. , 2.2, 5. , 1.5],\n",
       "        [6.9, 3.2, 5.7, 2.3],\n",
       "        [5.6, 2.8, 4.9, 2. ],\n",
       "        [7.7, 2.8, 6.7, 2. ],\n",
       "        [6.3, 2.7, 4.9, 1.8],\n",
       "        [6.7, 3.3, 5.7, 2.1],\n",
       "        [7.2, 3.2, 6. , 1.8],\n",
       "        [6.2, 2.8, 4.8, 1.8],\n",
       "        [6.1, 3. , 4.9, 1.8],\n",
       "        [6.4, 2.8, 5.6, 2.1],\n",
       "        [7.2, 3. , 5.8, 1.6],\n",
       "        [7.4, 2.8, 6.1, 1.9],\n",
       "        [7.9, 3.8, 6.4, 2. ],\n",
       "        [6.4, 2.8, 5.6, 2.2],\n",
       "        [6.3, 2.8, 5.1, 1.5],\n",
       "        [6.1, 2.6, 5.6, 1.4],\n",
       "        [7.7, 3. , 6.1, 2.3],\n",
       "        [6.3, 3.4, 5.6, 2.4],\n",
       "        [6.4, 3.1, 5.5, 1.8],\n",
       "        [6. , 3. , 4.8, 1.8],\n",
       "        [6.9, 3.1, 5.4, 2.1],\n",
       "        [6.7, 3.1, 5.6, 2.4],\n",
       "        [6.9, 3.1, 5.1, 2.3],\n",
       "        [5.8, 2.7, 5.1, 1.9],\n",
       "        [6.8, 3.2, 5.9, 2.3],\n",
       "        [6.7, 3.3, 5.7, 2.5],\n",
       "        [6.7, 3. , 5.2, 2.3],\n",
       "        [6.3, 2.5, 5. , 1.9],\n",
       "        [6.5, 3. , 5.2, 2. ],\n",
       "        [6.2, 3.4, 5.4, 2.3],\n",
       "        [5.9, 3. , 5.1, 1.8]]),\n",
       " 'target': array([0, 0, 0, 0, 0, 0, 0, 0, 0, 0, 0, 0, 0, 0, 0, 0, 0, 0, 0, 0, 0, 0,\n",
       "        0, 0, 0, 0, 0, 0, 0, 0, 0, 0, 0, 0, 0, 0, 0, 0, 0, 0, 0, 0, 0, 0,\n",
       "        0, 0, 0, 0, 0, 0, 1, 1, 1, 1, 1, 1, 1, 1, 1, 1, 1, 1, 1, 1, 1, 1,\n",
       "        1, 1, 1, 1, 1, 1, 1, 1, 1, 1, 1, 1, 1, 1, 1, 1, 1, 1, 1, 1, 1, 1,\n",
       "        1, 1, 1, 1, 1, 1, 1, 1, 1, 1, 1, 1, 2, 2, 2, 2, 2, 2, 2, 2, 2, 2,\n",
       "        2, 2, 2, 2, 2, 2, 2, 2, 2, 2, 2, 2, 2, 2, 2, 2, 2, 2, 2, 2, 2, 2,\n",
       "        2, 2, 2, 2, 2, 2, 2, 2, 2, 2, 2, 2, 2, 2, 2, 2, 2, 2]),\n",
       " 'frame': None,\n",
       " 'target_names': array(['setosa', 'versicolor', 'virginica'], dtype='<U10'),\n",
       " 'DESCR': '.. _iris_dataset:\\n\\nIris plants dataset\\n--------------------\\n\\n**Data Set Characteristics:**\\n\\n    :Number of Instances: 150 (50 in each of three classes)\\n    :Number of Attributes: 4 numeric, predictive attributes and the class\\n    :Attribute Information:\\n        - sepal length in cm\\n        - sepal width in cm\\n        - petal length in cm\\n        - petal width in cm\\n        - class:\\n                - Iris-Setosa\\n                - Iris-Versicolour\\n                - Iris-Virginica\\n                \\n    :Summary Statistics:\\n\\n    ============== ==== ==== ======= ===== ====================\\n                    Min  Max   Mean    SD   Class Correlation\\n    ============== ==== ==== ======= ===== ====================\\n    sepal length:   4.3  7.9   5.84   0.83    0.7826\\n    sepal width:    2.0  4.4   3.05   0.43   -0.4194\\n    petal length:   1.0  6.9   3.76   1.76    0.9490  (high!)\\n    petal width:    0.1  2.5   1.20   0.76    0.9565  (high!)\\n    ============== ==== ==== ======= ===== ====================\\n\\n    :Missing Attribute Values: None\\n    :Class Distribution: 33.3% for each of 3 classes.\\n    :Creator: R.A. Fisher\\n    :Donor: Michael Marshall (MARSHALL%PLU@io.arc.nasa.gov)\\n    :Date: July, 1988\\n\\nThe famous Iris database, first used by Sir R.A. Fisher. The dataset is taken\\nfrom Fisher\\'s paper. Note that it\\'s the same as in R, but not as in the UCI\\nMachine Learning Repository, which has two wrong data points.\\n\\nThis is perhaps the best known database to be found in the\\npattern recognition literature.  Fisher\\'s paper is a classic in the field and\\nis referenced frequently to this day.  (See Duda & Hart, for example.)  The\\ndata set contains 3 classes of 50 instances each, where each class refers to a\\ntype of iris plant.  One class is linearly separable from the other 2; the\\nlatter are NOT linearly separable from each other.\\n\\n.. topic:: References\\n\\n   - Fisher, R.A. \"The use of multiple measurements in taxonomic problems\"\\n     Annual Eugenics, 7, Part II, 179-188 (1936); also in \"Contributions to\\n     Mathematical Statistics\" (John Wiley, NY, 1950).\\n   - Duda, R.O., & Hart, P.E. (1973) Pattern Classification and Scene Analysis.\\n     (Q327.D83) John Wiley & Sons.  ISBN 0-471-22361-1.  See page 218.\\n   - Dasarathy, B.V. (1980) \"Nosing Around the Neighborhood: A New System\\n     Structure and Classification Rule for Recognition in Partially Exposed\\n     Environments\".  IEEE Transactions on Pattern Analysis and Machine\\n     Intelligence, Vol. PAMI-2, No. 1, 67-71.\\n   - Gates, G.W. (1972) \"The Reduced Nearest Neighbor Rule\".  IEEE Transactions\\n     on Information Theory, May 1972, 431-433.\\n   - See also: 1988 MLC Proceedings, 54-64.  Cheeseman et al\"s AUTOCLASS II\\n     conceptual clustering system finds 3 classes in the data.\\n   - Many, many more ...',\n",
       " 'feature_names': ['sepal length (cm)',\n",
       "  'sepal width (cm)',\n",
       "  'petal length (cm)',\n",
       "  'petal width (cm)'],\n",
       " 'filename': 'iris.csv',\n",
       " 'data_module': 'sklearn.datasets.data'}"
      ]
     },
     "execution_count": 116,
     "metadata": {},
     "output_type": "execute_result"
    }
   ],
   "source": [
    "data"
   ]
  },
  {
   "cell_type": "code",
   "execution_count": 117,
   "id": "27d4b90b-cd87-49c8-9440-4fce3a5d4b8b",
   "metadata": {},
   "outputs": [],
   "source": [
    "#Q .Split the dataset into training and testing setZ"
   ]
  },
  {
   "cell_type": "code",
   "execution_count": 118,
   "id": "4f283a8d-fb53-4ecd-afbf-249528d47401",
   "metadata": {},
   "outputs": [],
   "source": [
    "x=pd.DataFrame(data.data,columns=data.feature_names)\n",
    "y=data.target"
   ]
  },
  {
   "cell_type": "code",
   "execution_count": 119,
   "id": "fe52e4f5-8254-4013-9d7e-6d110e30d8f2",
   "metadata": {},
   "outputs": [],
   "source": [
    "from sklearn.model_selection import train_test_split"
   ]
  },
  {
   "cell_type": "code",
   "execution_count": 120,
   "id": "68078239-f0be-4ea0-bc99-9a071a6c0c64",
   "metadata": {},
   "outputs": [],
   "source": [
    " x_train, x_test, y_train, y_test=train_test_split(x,y,test_size=0.25,random_state=42)"
   ]
  },
  {
   "cell_type": "code",
   "execution_count": 121,
   "id": "3246ec60-ae7c-492d-b35f-f7d0689ffa7a",
   "metadata": {},
   "outputs": [
    {
     "data": {
      "text/plain": [
       "(     sepal length (cm)  sepal width (cm)  petal length (cm)  petal width (cm)\n",
       " 4                  5.0               3.6                1.4               0.2\n",
       " 32                 5.2               4.1                1.5               0.1\n",
       " 142                5.8               2.7                5.1               1.9\n",
       " 85                 6.0               3.4                4.5               1.6\n",
       " 86                 6.7               3.1                4.7               1.5\n",
       " ..                 ...               ...                ...               ...\n",
       " 71                 6.1               2.8                4.0               1.3\n",
       " 106                4.9               2.5                4.5               1.7\n",
       " 14                 5.8               4.0                1.2               0.2\n",
       " 92                 5.8               2.6                4.0               1.2\n",
       " 102                7.1               3.0                5.9               2.1\n",
       " \n",
       " [112 rows x 4 columns],\n",
       "      sepal length (cm)  sepal width (cm)  petal length (cm)  petal width (cm)\n",
       " 73                 6.1               2.8                4.7               1.2\n",
       " 18                 5.7               3.8                1.7               0.3\n",
       " 118                7.7               2.6                6.9               2.3\n",
       " 78                 6.0               2.9                4.5               1.5\n",
       " 76                 6.8               2.8                4.8               1.4\n",
       " 31                 5.4               3.4                1.5               0.4\n",
       " 64                 5.6               2.9                3.6               1.3\n",
       " 141                6.9               3.1                5.1               2.3\n",
       " 68                 6.2               2.2                4.5               1.5\n",
       " 82                 5.8               2.7                3.9               1.2\n",
       " 110                6.5               3.2                5.1               2.0\n",
       " 12                 4.8               3.0                1.4               0.1\n",
       " 36                 5.5               3.5                1.3               0.2\n",
       " 9                  4.9               3.1                1.5               0.1\n",
       " 19                 5.1               3.8                1.5               0.3\n",
       " 56                 6.3               3.3                4.7               1.6\n",
       " 104                6.5               3.0                5.8               2.2\n",
       " 69                 5.6               2.5                3.9               1.1\n",
       " 55                 5.7               2.8                4.5               1.3\n",
       " 132                6.4               2.8                5.6               2.2\n",
       " 29                 4.7               3.2                1.6               0.2\n",
       " 127                6.1               3.0                4.9               1.8\n",
       " 26                 5.0               3.4                1.6               0.4\n",
       " 128                6.4               2.8                5.6               2.1\n",
       " 131                7.9               3.8                6.4               2.0\n",
       " 145                6.7               3.0                5.2               2.3\n",
       " 108                6.7               2.5                5.8               1.8\n",
       " 143                6.8               3.2                5.9               2.3\n",
       " 45                 4.8               3.0                1.4               0.3\n",
       " 30                 4.8               3.1                1.6               0.2\n",
       " 22                 4.6               3.6                1.0               0.2\n",
       " 15                 5.7               4.4                1.5               0.4\n",
       " 65                 6.7               3.1                4.4               1.4\n",
       " 11                 4.8               3.4                1.6               0.2\n",
       " 42                 4.4               3.2                1.3               0.2\n",
       " 146                6.3               2.5                5.0               1.9\n",
       " 51                 6.4               3.2                4.5               1.5\n",
       " 27                 5.2               3.5                1.5               0.2)"
      ]
     },
     "execution_count": 121,
     "metadata": {},
     "output_type": "execute_result"
    }
   ],
   "source": [
    "x_train,x_test"
   ]
  },
  {
   "cell_type": "code",
   "execution_count": 122,
   "id": "c39eb793-14d1-426e-9ce9-0616caaf79ce",
   "metadata": {},
   "outputs": [],
   "source": [
    "#Q. Preprocess the data using any technique of your choice (e.g. scaling, normaliMationK"
   ]
  },
  {
   "cell_type": "code",
   "execution_count": 123,
   "id": "76cf8b24-5a4e-4f14-ad69-88f179a697f3",
   "metadata": {},
   "outputs": [],
   "source": [
    "from sklearn.preprocessing import StandardScaler"
   ]
  },
  {
   "cell_type": "code",
   "execution_count": 124,
   "id": "2a5d7a17-00c5-4696-aa07-f4969a0d7a19",
   "metadata": {},
   "outputs": [],
   "source": [
    "scaler =StandardScaler()"
   ]
  },
  {
   "cell_type": "code",
   "execution_count": 127,
   "id": "59639232-0dda-46ec-8329-7df13b8c4bbf",
   "metadata": {},
   "outputs": [],
   "source": [
    "x_train_scaled=scaler.fit_transform(x_train)\n",
    "x_test_scaled=scaler.transform(x_test)"
   ]
  },
  {
   "cell_type": "code",
   "execution_count": 128,
   "id": "1cb00e55-a73e-4c81-88ed-ef46b0b1fa39",
   "metadata": {},
   "outputs": [
    {
     "data": {
      "text/plain": [
       "array([[ 0.33066442, -0.55192639,  0.51683569, -0.01918559],\n",
       "       [-0.15985763,  1.7460571 , -1.21973223, -1.22787777],\n",
       "       [ 2.29275265, -1.01152309,  1.79031883,  1.45810485],\n",
       "       [ 0.20803391, -0.32212804,  0.4010645 ,  0.3837118 ],\n",
       "       [ 1.18907802, -0.55192639,  0.57472129,  0.24941267],\n",
       "       [-0.52774918,  0.8268637 , -1.33550342, -1.09357864],\n",
       "       [-0.28248815, -0.32212804, -0.11990588,  0.11511354],\n",
       "       [ 1.31170853,  0.13746866,  0.74837808,  1.45810485],\n",
       "       [ 0.45329494, -1.93071649,  0.4010645 ,  0.3837118 ],\n",
       "       [-0.03722712, -0.78172474,  0.05375091, -0.01918559],\n",
       "       [ 0.82118648,  0.367267  ,  0.74837808,  1.05520746],\n",
       "       [-1.26353226, -0.09232969, -1.39338902, -1.49647603],\n",
       "       [-0.40511866,  1.05666205, -1.45127462, -1.3621769 ],\n",
       "       [-1.14090175,  0.13746866, -1.33550342, -1.49647603],\n",
       "       [-0.89564072,  1.7460571 , -1.33550342, -1.22787777],\n",
       "       [ 0.57592545,  0.59706535,  0.51683569,  0.51801093],\n",
       "       [ 0.82118648, -0.09232969,  1.15357726,  1.32380572],\n",
       "       [-0.28248815, -1.24132144,  0.05375091, -0.15348472],\n",
       "       [-0.15985763, -0.55192639,  0.4010645 ,  0.11511354],\n",
       "       [ 0.69855596, -0.55192639,  1.03780607,  1.32380572],\n",
       "       [-1.38616278,  0.367267  , -1.27761783, -1.3621769 ],\n",
       "       [ 0.33066442, -0.09232969,  0.63260689,  0.7866092 ],\n",
       "       [-1.01827123,  0.8268637 , -1.27761783, -1.09357864],\n",
       "       [ 0.69855596, -0.55192639,  1.03780607,  1.18950659],\n",
       "       [ 2.53801368,  1.7460571 ,  1.50089084,  1.05520746],\n",
       "       [ 1.06644751, -0.09232969,  0.80626368,  1.45810485],\n",
       "       [ 1.06644751, -1.24132144,  1.15357726,  0.7866092 ],\n",
       "       [ 1.18907802,  0.367267  ,  1.21146286,  1.45810485],\n",
       "       [-1.26353226, -0.09232969, -1.39338902, -1.22787777],\n",
       "       [-1.26353226,  0.13746866, -1.27761783, -1.3621769 ],\n",
       "       [-1.50879329,  1.2864604 , -1.62493141, -1.3621769 ],\n",
       "       [-0.15985763,  3.12484719, -1.33550342, -1.09357864],\n",
       "       [ 1.06644751,  0.13746866,  0.3431789 ,  0.24941267],\n",
       "       [-1.26353226,  0.8268637 , -1.27761783, -1.3621769 ],\n",
       "       [-1.75405432,  0.367267  , -1.45127462, -1.3621769 ],\n",
       "       [ 0.57592545, -1.24132144,  0.69049248,  0.92090833],\n",
       "       [ 0.69855596,  0.367267  ,  0.4010645 ,  0.3837118 ],\n",
       "       [-0.7730102 ,  1.05666205, -1.33550342, -1.3621769 ]])"
      ]
     },
     "execution_count": 128,
     "metadata": {},
     "output_type": "execute_result"
    }
   ],
   "source": [
    "x_test_scaled"
   ]
  },
  {
   "cell_type": "code",
   "execution_count": 129,
   "id": "afe18128-309b-4056-b724-e5d34b69b083",
   "metadata": {},
   "outputs": [],
   "source": [
    "#Q. Create an instance of the SVC classifier and train it on the training datW"
   ]
  },
  {
   "cell_type": "code",
   "execution_count": 130,
   "id": "076da395-f000-44a2-bb41-fa38e7f2e03c",
   "metadata": {},
   "outputs": [],
   "source": [
    "from sklearn.svm import SVC"
   ]
  },
  {
   "cell_type": "code",
   "execution_count": 131,
   "id": "69b93de6-8c7c-45d3-b5df-e3e4ca88e28e",
   "metadata": {},
   "outputs": [],
   "source": [
    "svc=SVC(kernel='linear')"
   ]
  },
  {
   "cell_type": "code",
   "execution_count": 132,
   "id": "367dd560-cada-4e80-b0c0-f3bbd2f203a6",
   "metadata": {},
   "outputs": [
    {
     "data": {
      "text/html": [
       "<style>#sk-container-id-1 {color: black;background-color: white;}#sk-container-id-1 pre{padding: 0;}#sk-container-id-1 div.sk-toggleable {background-color: white;}#sk-container-id-1 label.sk-toggleable__label {cursor: pointer;display: block;width: 100%;margin-bottom: 0;padding: 0.3em;box-sizing: border-box;text-align: center;}#sk-container-id-1 label.sk-toggleable__label-arrow:before {content: \"▸\";float: left;margin-right: 0.25em;color: #696969;}#sk-container-id-1 label.sk-toggleable__label-arrow:hover:before {color: black;}#sk-container-id-1 div.sk-estimator:hover label.sk-toggleable__label-arrow:before {color: black;}#sk-container-id-1 div.sk-toggleable__content {max-height: 0;max-width: 0;overflow: hidden;text-align: left;background-color: #f0f8ff;}#sk-container-id-1 div.sk-toggleable__content pre {margin: 0.2em;color: black;border-radius: 0.25em;background-color: #f0f8ff;}#sk-container-id-1 input.sk-toggleable__control:checked~div.sk-toggleable__content {max-height: 200px;max-width: 100%;overflow: auto;}#sk-container-id-1 input.sk-toggleable__control:checked~label.sk-toggleable__label-arrow:before {content: \"▾\";}#sk-container-id-1 div.sk-estimator input.sk-toggleable__control:checked~label.sk-toggleable__label {background-color: #d4ebff;}#sk-container-id-1 div.sk-label input.sk-toggleable__control:checked~label.sk-toggleable__label {background-color: #d4ebff;}#sk-container-id-1 input.sk-hidden--visually {border: 0;clip: rect(1px 1px 1px 1px);clip: rect(1px, 1px, 1px, 1px);height: 1px;margin: -1px;overflow: hidden;padding: 0;position: absolute;width: 1px;}#sk-container-id-1 div.sk-estimator {font-family: monospace;background-color: #f0f8ff;border: 1px dotted black;border-radius: 0.25em;box-sizing: border-box;margin-bottom: 0.5em;}#sk-container-id-1 div.sk-estimator:hover {background-color: #d4ebff;}#sk-container-id-1 div.sk-parallel-item::after {content: \"\";width: 100%;border-bottom: 1px solid gray;flex-grow: 1;}#sk-container-id-1 div.sk-label:hover label.sk-toggleable__label {background-color: #d4ebff;}#sk-container-id-1 div.sk-serial::before {content: \"\";position: absolute;border-left: 1px solid gray;box-sizing: border-box;top: 0;bottom: 0;left: 50%;z-index: 0;}#sk-container-id-1 div.sk-serial {display: flex;flex-direction: column;align-items: center;background-color: white;padding-right: 0.2em;padding-left: 0.2em;position: relative;}#sk-container-id-1 div.sk-item {position: relative;z-index: 1;}#sk-container-id-1 div.sk-parallel {display: flex;align-items: stretch;justify-content: center;background-color: white;position: relative;}#sk-container-id-1 div.sk-item::before, #sk-container-id-1 div.sk-parallel-item::before {content: \"\";position: absolute;border-left: 1px solid gray;box-sizing: border-box;top: 0;bottom: 0;left: 50%;z-index: -1;}#sk-container-id-1 div.sk-parallel-item {display: flex;flex-direction: column;z-index: 1;position: relative;background-color: white;}#sk-container-id-1 div.sk-parallel-item:first-child::after {align-self: flex-end;width: 50%;}#sk-container-id-1 div.sk-parallel-item:last-child::after {align-self: flex-start;width: 50%;}#sk-container-id-1 div.sk-parallel-item:only-child::after {width: 0;}#sk-container-id-1 div.sk-dashed-wrapped {border: 1px dashed gray;margin: 0 0.4em 0.5em 0.4em;box-sizing: border-box;padding-bottom: 0.4em;background-color: white;}#sk-container-id-1 div.sk-label label {font-family: monospace;font-weight: bold;display: inline-block;line-height: 1.2em;}#sk-container-id-1 div.sk-label-container {text-align: center;}#sk-container-id-1 div.sk-container {/* jupyter's `normalize.less` sets `[hidden] { display: none; }` but bootstrap.min.css set `[hidden] { display: none !important; }` so we also need the `!important` here to be able to override the default hidden behavior on the sphinx rendered scikit-learn.org. See: https://github.com/scikit-learn/scikit-learn/issues/21755 */display: inline-block !important;position: relative;}#sk-container-id-1 div.sk-text-repr-fallback {display: none;}</style><div id=\"sk-container-id-1\" class=\"sk-top-container\"><div class=\"sk-text-repr-fallback\"><pre>SVC(kernel=&#x27;linear&#x27;)</pre><b>In a Jupyter environment, please rerun this cell to show the HTML representation or trust the notebook. <br />On GitHub, the HTML representation is unable to render, please try loading this page with nbviewer.org.</b></div><div class=\"sk-container\" hidden><div class=\"sk-item\"><div class=\"sk-estimator sk-toggleable\"><input class=\"sk-toggleable__control sk-hidden--visually\" id=\"sk-estimator-id-1\" type=\"checkbox\" checked><label for=\"sk-estimator-id-1\" class=\"sk-toggleable__label sk-toggleable__label-arrow\">SVC</label><div class=\"sk-toggleable__content\"><pre>SVC(kernel=&#x27;linear&#x27;)</pre></div></div></div></div></div>"
      ],
      "text/plain": [
       "SVC(kernel='linear')"
      ]
     },
     "execution_count": 132,
     "metadata": {},
     "output_type": "execute_result"
    }
   ],
   "source": [
    "svc.fit(x_train,y_train)"
   ]
  },
  {
   "cell_type": "code",
   "execution_count": 133,
   "id": "6d8de837-8ae1-4ecf-b6d2-76db15a4e8f8",
   "metadata": {},
   "outputs": [],
   "source": [
    "#Q Use the trained classifier to predict the labels of the testing datW"
   ]
  },
  {
   "cell_type": "code",
   "execution_count": 134,
   "id": "29271727-e338-4c57-a43b-0cca5bae2dc5",
   "metadata": {},
   "outputs": [],
   "source": [
    "y_pred=svc.predict(x_test)"
   ]
  },
  {
   "cell_type": "code",
   "execution_count": 135,
   "id": "9543442c-3b9e-4d13-a882-d48ca2739b14",
   "metadata": {},
   "outputs": [
    {
     "data": {
      "text/plain": [
       "array([1, 0, 2, 1, 1, 0, 1, 2, 1, 1, 2, 0, 0, 0, 0, 1, 2, 1, 1, 2, 0, 2,\n",
       "       0, 2, 2, 2, 2, 2, 0, 0, 0, 0, 1, 0, 0, 2, 1, 0])"
      ]
     },
     "execution_count": 135,
     "metadata": {},
     "output_type": "execute_result"
    }
   ],
   "source": [
    "y_pred\n"
   ]
  },
  {
   "cell_type": "code",
   "execution_count": 136,
   "id": "46ce525f-3aef-489a-add6-939da5e117bd",
   "metadata": {},
   "outputs": [],
   "source": [
    "#Q. Evaluate the performance of the classifier using any metric of your choice (e.g. accuracy,\n",
    "#precision, recall, F1-scoreK"
   ]
  },
  {
   "cell_type": "code",
   "execution_count": 137,
   "id": "9c6571c1-9850-4c09-ba3f-2abad45960d4",
   "metadata": {},
   "outputs": [],
   "source": [
    "from sklearn.metrics import classification_report,confusion_matrix,accuracy_score"
   ]
  },
  {
   "cell_type": "code",
   "execution_count": 138,
   "id": "ee740895-2cc5-4415-a674-d2ca3d25d065",
   "metadata": {},
   "outputs": [
    {
     "name": "stdout",
     "output_type": "stream",
     "text": [
      "              precision    recall  f1-score   support\n",
      "\n",
      "           0       1.00      1.00      1.00        15\n",
      "           1       1.00      1.00      1.00        11\n",
      "           2       1.00      1.00      1.00        12\n",
      "\n",
      "    accuracy                           1.00        38\n",
      "   macro avg       1.00      1.00      1.00        38\n",
      "weighted avg       1.00      1.00      1.00        38\n",
      "\n",
      "[[15  0  0]\n",
      " [ 0 11  0]\n",
      " [ 0  0 12]]\n",
      "1.0\n"
     ]
    }
   ],
   "source": [
    "print(classification_report(y_test,y_pred))\n",
    "print(confusion_matrix(y_test,y_pred))\n",
    "print(accuracy_score(y_test,y_pred))"
   ]
  },
  {
   "cell_type": "code",
   "execution_count": 139,
   "id": "16e45cd7-4f97-4a9a-a52d-6169da5796ca",
   "metadata": {},
   "outputs": [],
   "source": [
    "#Q. Tune the hyperparameters of the SVC classifier using GridSearchCV or RandomiMedSearchCV to\n",
    "#improve its performanc_"
   ]
  },
  {
   "cell_type": "code",
   "execution_count": 141,
   "id": "e555d6c0-b8f1-42e9-8eed-6bd421aa943f",
   "metadata": {},
   "outputs": [],
   "source": [
    "from sklearn.model_selection import GridSearchCV\n",
    "#defining parameter range\n",
    "param_grid={'C':[0.1,1,10,100,1000],\n",
    "            'gamma':[1,0.1,0.01,0.001,0.0001]\n",
    "           }"
   ]
  },
  {
   "cell_type": "code",
   "execution_count": 142,
   "id": "bbe6a3d5-cd82-4d01-bc4a-95cd37a92142",
   "metadata": {},
   "outputs": [],
   "source": [
    "grid=GridSearchCV(SVC(),param_grid=param_grid,refit=True,cv=5,verbose=3)"
   ]
  },
  {
   "cell_type": "code",
   "execution_count": 143,
   "id": "c8a5ea84-1a7c-45e4-9d3b-690c3c3ca92e",
   "metadata": {},
   "outputs": [
    {
     "name": "stdout",
     "output_type": "stream",
     "text": [
      "Fitting 5 folds for each of 25 candidates, totalling 125 fits\n",
      "[CV 1/5] END ....................C=0.1, gamma=1;, score=1.000 total time=   0.0s\n",
      "[CV 2/5] END ....................C=0.1, gamma=1;, score=0.957 total time=   0.0s\n",
      "[CV 3/5] END ....................C=0.1, gamma=1;, score=0.818 total time=   0.0s\n",
      "[CV 4/5] END ....................C=0.1, gamma=1;, score=1.000 total time=   0.0s\n",
      "[CV 5/5] END ....................C=0.1, gamma=1;, score=0.955 total time=   0.0s\n",
      "[CV 1/5] END ..................C=0.1, gamma=0.1;, score=1.000 total time=   0.0s\n",
      "[CV 2/5] END ..................C=0.1, gamma=0.1;, score=0.870 total time=   0.0s\n",
      "[CV 3/5] END ..................C=0.1, gamma=0.1;, score=0.864 total time=   0.0s\n",
      "[CV 4/5] END ..................C=0.1, gamma=0.1;, score=0.955 total time=   0.0s\n",
      "[CV 5/5] END ..................C=0.1, gamma=0.1;, score=0.864 total time=   0.0s\n",
      "[CV 1/5] END .................C=0.1, gamma=0.01;, score=0.348 total time=   0.0s\n",
      "[CV 2/5] END .................C=0.1, gamma=0.01;, score=0.348 total time=   0.0s\n",
      "[CV 3/5] END .................C=0.1, gamma=0.01;, score=0.318 total time=   0.0s\n",
      "[CV 4/5] END .................C=0.1, gamma=0.01;, score=0.636 total time=   0.0s\n",
      "[CV 5/5] END .................C=0.1, gamma=0.01;, score=0.545 total time=   0.0s\n",
      "[CV 1/5] END ................C=0.1, gamma=0.001;, score=0.348 total time=   0.0s\n",
      "[CV 2/5] END ................C=0.1, gamma=0.001;, score=0.348 total time=   0.0s\n",
      "[CV 3/5] END ................C=0.1, gamma=0.001;, score=0.318 total time=   0.0s\n",
      "[CV 4/5] END ................C=0.1, gamma=0.001;, score=0.636 total time=   0.0s\n",
      "[CV 5/5] END ................C=0.1, gamma=0.001;, score=0.545 total time=   0.0s\n",
      "[CV 1/5] END ...............C=0.1, gamma=0.0001;, score=0.348 total time=   0.0s\n",
      "[CV 2/5] END ...............C=0.1, gamma=0.0001;, score=0.348 total time=   0.0s\n",
      "[CV 3/5] END ...............C=0.1, gamma=0.0001;, score=0.318 total time=   0.0s\n",
      "[CV 4/5] END ...............C=0.1, gamma=0.0001;, score=0.636 total time=   0.0s\n",
      "[CV 5/5] END ...............C=0.1, gamma=0.0001;, score=0.545 total time=   0.0s\n",
      "[CV 1/5] END ......................C=1, gamma=1;, score=0.957 total time=   0.0s\n",
      "[CV 2/5] END ......................C=1, gamma=1;, score=1.000 total time=   0.0s\n",
      "[CV 3/5] END ......................C=1, gamma=1;, score=0.818 total time=   0.0s\n",
      "[CV 4/5] END ......................C=1, gamma=1;, score=1.000 total time=   0.0s\n",
      "[CV 5/5] END ......................C=1, gamma=1;, score=0.955 total time=   0.0s\n",
      "[CV 1/5] END ....................C=1, gamma=0.1;, score=1.000 total time=   0.0s\n",
      "[CV 2/5] END ....................C=1, gamma=0.1;, score=0.957 total time=   0.0s\n",
      "[CV 3/5] END ....................C=1, gamma=0.1;, score=0.818 total time=   0.0s\n",
      "[CV 4/5] END ....................C=1, gamma=0.1;, score=1.000 total time=   0.0s\n",
      "[CV 5/5] END ....................C=1, gamma=0.1;, score=0.955 total time=   0.0s\n",
      "[CV 1/5] END ...................C=1, gamma=0.01;, score=0.957 total time=   0.0s\n",
      "[CV 2/5] END ...................C=1, gamma=0.01;, score=0.870 total time=   0.0s\n",
      "[CV 3/5] END ...................C=1, gamma=0.01;, score=0.864 total time=   0.0s\n",
      "[CV 4/5] END ...................C=1, gamma=0.01;, score=1.000 total time=   0.0s\n",
      "[CV 5/5] END ...................C=1, gamma=0.01;, score=0.864 total time=   0.0s\n",
      "[CV 1/5] END ..................C=1, gamma=0.001;, score=0.348 total time=   0.0s\n",
      "[CV 2/5] END ..................C=1, gamma=0.001;, score=0.348 total time=   0.0s\n",
      "[CV 3/5] END ..................C=1, gamma=0.001;, score=0.318 total time=   0.0s\n",
      "[CV 4/5] END ..................C=1, gamma=0.001;, score=0.636 total time=   0.0s\n",
      "[CV 5/5] END ..................C=1, gamma=0.001;, score=0.545 total time=   0.0s\n",
      "[CV 1/5] END .................C=1, gamma=0.0001;, score=0.348 total time=   0.0s\n",
      "[CV 2/5] END .................C=1, gamma=0.0001;, score=0.348 total time=   0.0s\n",
      "[CV 3/5] END .................C=1, gamma=0.0001;, score=0.318 total time=   0.0s\n",
      "[CV 4/5] END .................C=1, gamma=0.0001;, score=0.636 total time=   0.0s\n",
      "[CV 5/5] END .................C=1, gamma=0.0001;, score=0.545 total time=   0.0s\n",
      "[CV 1/5] END .....................C=10, gamma=1;, score=0.957 total time=   0.0s\n",
      "[CV 2/5] END .....................C=10, gamma=1;, score=1.000 total time=   0.0s\n",
      "[CV 3/5] END .....................C=10, gamma=1;, score=0.818 total time=   0.0s\n",
      "[CV 4/5] END .....................C=10, gamma=1;, score=1.000 total time=   0.0s\n",
      "[CV 5/5] END .....................C=10, gamma=1;, score=0.955 total time=   0.0s\n",
      "[CV 1/5] END ...................C=10, gamma=0.1;, score=0.957 total time=   0.0s\n",
      "[CV 2/5] END ...................C=10, gamma=0.1;, score=1.000 total time=   0.0s\n",
      "[CV 3/5] END ...................C=10, gamma=0.1;, score=0.864 total time=   0.0s\n",
      "[CV 4/5] END ...................C=10, gamma=0.1;, score=1.000 total time=   0.0s\n",
      "[CV 5/5] END ...................C=10, gamma=0.1;, score=0.955 total time=   0.0s\n",
      "[CV 1/5] END ..................C=10, gamma=0.01;, score=1.000 total time=   0.0s\n",
      "[CV 2/5] END ..................C=10, gamma=0.01;, score=0.957 total time=   0.0s\n",
      "[CV 3/5] END ..................C=10, gamma=0.01;, score=0.818 total time=   0.0s\n",
      "[CV 4/5] END ..................C=10, gamma=0.01;, score=1.000 total time=   0.0s\n",
      "[CV 5/5] END ..................C=10, gamma=0.01;, score=0.955 total time=   0.0s\n",
      "[CV 1/5] END .................C=10, gamma=0.001;, score=0.957 total time=   0.0s\n",
      "[CV 2/5] END .................C=10, gamma=0.001;, score=0.870 total time=   0.0s\n",
      "[CV 3/5] END .................C=10, gamma=0.001;, score=0.864 total time=   0.0s\n",
      "[CV 4/5] END .................C=10, gamma=0.001;, score=1.000 total time=   0.0s\n",
      "[CV 5/5] END .................C=10, gamma=0.001;, score=0.864 total time=   0.0s\n",
      "[CV 1/5] END ................C=10, gamma=0.0001;, score=0.348 total time=   0.0s\n",
      "[CV 2/5] END ................C=10, gamma=0.0001;, score=0.348 total time=   0.0s\n",
      "[CV 3/5] END ................C=10, gamma=0.0001;, score=0.318 total time=   0.0s\n",
      "[CV 4/5] END ................C=10, gamma=0.0001;, score=0.636 total time=   0.0s\n",
      "[CV 5/5] END ................C=10, gamma=0.0001;, score=0.545 total time=   0.0s\n",
      "[CV 1/5] END ....................C=100, gamma=1;, score=0.957 total time=   0.0s\n",
      "[CV 2/5] END ....................C=100, gamma=1;, score=1.000 total time=   0.0s\n",
      "[CV 3/5] END ....................C=100, gamma=1;, score=0.818 total time=   0.0s\n",
      "[CV 4/5] END ....................C=100, gamma=1;, score=0.955 total time=   0.0s\n",
      "[CV 5/5] END ....................C=100, gamma=1;, score=0.909 total time=   0.0s\n",
      "[CV 1/5] END ..................C=100, gamma=0.1;, score=0.957 total time=   0.0s\n",
      "[CV 2/5] END ..................C=100, gamma=0.1;, score=1.000 total time=   0.0s\n",
      "[CV 3/5] END ..................C=100, gamma=0.1;, score=0.818 total time=   0.0s\n",
      "[CV 4/5] END ..................C=100, gamma=0.1;, score=1.000 total time=   0.0s\n",
      "[CV 5/5] END ..................C=100, gamma=0.1;, score=1.000 total time=   0.0s\n",
      "[CV 1/5] END .................C=100, gamma=0.01;, score=1.000 total time=   0.0s\n",
      "[CV 2/5] END .................C=100, gamma=0.01;, score=1.000 total time=   0.0s\n",
      "[CV 3/5] END .................C=100, gamma=0.01;, score=0.864 total time=   0.0s\n",
      "[CV 4/5] END .................C=100, gamma=0.01;, score=1.000 total time=   0.0s\n",
      "[CV 5/5] END .................C=100, gamma=0.01;, score=1.000 total time=   0.0s\n",
      "[CV 1/5] END ................C=100, gamma=0.001;, score=1.000 total time=   0.0s\n",
      "[CV 2/5] END ................C=100, gamma=0.001;, score=0.957 total time=   0.0s\n",
      "[CV 3/5] END ................C=100, gamma=0.001;, score=0.818 total time=   0.0s\n",
      "[CV 4/5] END ................C=100, gamma=0.001;, score=1.000 total time=   0.0s\n",
      "[CV 5/5] END ................C=100, gamma=0.001;, score=0.955 total time=   0.0s\n",
      "[CV 1/5] END ...............C=100, gamma=0.0001;, score=0.957 total time=   0.0s\n",
      "[CV 2/5] END ...............C=100, gamma=0.0001;, score=0.870 total time=   0.0s\n",
      "[CV 3/5] END ...............C=100, gamma=0.0001;, score=0.864 total time=   0.0s\n",
      "[CV 4/5] END ...............C=100, gamma=0.0001;, score=1.000 total time=   0.0s\n",
      "[CV 5/5] END ...............C=100, gamma=0.0001;, score=0.864 total time=   0.0s\n",
      "[CV 1/5] END ...................C=1000, gamma=1;, score=0.957 total time=   0.0s\n",
      "[CV 2/5] END ...................C=1000, gamma=1;, score=1.000 total time=   0.0s\n",
      "[CV 3/5] END ...................C=1000, gamma=1;, score=0.818 total time=   0.0s\n",
      "[CV 4/5] END ...................C=1000, gamma=1;, score=0.955 total time=   0.0s\n",
      "[CV 5/5] END ...................C=1000, gamma=1;, score=0.909 total time=   0.0s\n",
      "[CV 1/5] END .................C=1000, gamma=0.1;, score=0.957 total time=   0.0s\n",
      "[CV 2/5] END .................C=1000, gamma=0.1;, score=1.000 total time=   0.0s\n",
      "[CV 3/5] END .................C=1000, gamma=0.1;, score=0.818 total time=   0.0s\n",
      "[CV 4/5] END .................C=1000, gamma=0.1;, score=1.000 total time=   0.0s\n",
      "[CV 5/5] END .................C=1000, gamma=0.1;, score=0.955 total time=   0.0s\n",
      "[CV 1/5] END ................C=1000, gamma=0.01;, score=0.957 total time=   0.0s\n",
      "[CV 2/5] END ................C=1000, gamma=0.01;, score=0.957 total time=   0.0s\n",
      "[CV 3/5] END ................C=1000, gamma=0.01;, score=0.818 total time=   0.0s\n",
      "[CV 4/5] END ................C=1000, gamma=0.01;, score=1.000 total time=   0.0s\n",
      "[CV 5/5] END ................C=1000, gamma=0.01;, score=1.000 total time=   0.0s\n",
      "[CV 1/5] END ...............C=1000, gamma=0.001;, score=1.000 total time=   0.0s\n",
      "[CV 2/5] END ...............C=1000, gamma=0.001;, score=1.000 total time=   0.0s\n",
      "[CV 3/5] END ...............C=1000, gamma=0.001;, score=0.864 total time=   0.0s\n",
      "[CV 4/5] END ...............C=1000, gamma=0.001;, score=1.000 total time=   0.0s\n",
      "[CV 5/5] END ...............C=1000, gamma=0.001;, score=1.000 total time=   0.0s\n",
      "[CV 1/5] END ..............C=1000, gamma=0.0001;, score=1.000 total time=   0.0s\n",
      "[CV 2/5] END ..............C=1000, gamma=0.0001;, score=0.957 total time=   0.0s\n",
      "[CV 3/5] END ..............C=1000, gamma=0.0001;, score=0.818 total time=   0.0s\n",
      "[CV 4/5] END ..............C=1000, gamma=0.0001;, score=1.000 total time=   0.0s\n",
      "[CV 5/5] END ..............C=1000, gamma=0.0001;, score=0.955 total time=   0.0s\n"
     ]
    },
    {
     "data": {
      "text/html": [
       "<style>#sk-container-id-2 {color: black;background-color: white;}#sk-container-id-2 pre{padding: 0;}#sk-container-id-2 div.sk-toggleable {background-color: white;}#sk-container-id-2 label.sk-toggleable__label {cursor: pointer;display: block;width: 100%;margin-bottom: 0;padding: 0.3em;box-sizing: border-box;text-align: center;}#sk-container-id-2 label.sk-toggleable__label-arrow:before {content: \"▸\";float: left;margin-right: 0.25em;color: #696969;}#sk-container-id-2 label.sk-toggleable__label-arrow:hover:before {color: black;}#sk-container-id-2 div.sk-estimator:hover label.sk-toggleable__label-arrow:before {color: black;}#sk-container-id-2 div.sk-toggleable__content {max-height: 0;max-width: 0;overflow: hidden;text-align: left;background-color: #f0f8ff;}#sk-container-id-2 div.sk-toggleable__content pre {margin: 0.2em;color: black;border-radius: 0.25em;background-color: #f0f8ff;}#sk-container-id-2 input.sk-toggleable__control:checked~div.sk-toggleable__content {max-height: 200px;max-width: 100%;overflow: auto;}#sk-container-id-2 input.sk-toggleable__control:checked~label.sk-toggleable__label-arrow:before {content: \"▾\";}#sk-container-id-2 div.sk-estimator input.sk-toggleable__control:checked~label.sk-toggleable__label {background-color: #d4ebff;}#sk-container-id-2 div.sk-label input.sk-toggleable__control:checked~label.sk-toggleable__label {background-color: #d4ebff;}#sk-container-id-2 input.sk-hidden--visually {border: 0;clip: rect(1px 1px 1px 1px);clip: rect(1px, 1px, 1px, 1px);height: 1px;margin: -1px;overflow: hidden;padding: 0;position: absolute;width: 1px;}#sk-container-id-2 div.sk-estimator {font-family: monospace;background-color: #f0f8ff;border: 1px dotted black;border-radius: 0.25em;box-sizing: border-box;margin-bottom: 0.5em;}#sk-container-id-2 div.sk-estimator:hover {background-color: #d4ebff;}#sk-container-id-2 div.sk-parallel-item::after {content: \"\";width: 100%;border-bottom: 1px solid gray;flex-grow: 1;}#sk-container-id-2 div.sk-label:hover label.sk-toggleable__label {background-color: #d4ebff;}#sk-container-id-2 div.sk-serial::before {content: \"\";position: absolute;border-left: 1px solid gray;box-sizing: border-box;top: 0;bottom: 0;left: 50%;z-index: 0;}#sk-container-id-2 div.sk-serial {display: flex;flex-direction: column;align-items: center;background-color: white;padding-right: 0.2em;padding-left: 0.2em;position: relative;}#sk-container-id-2 div.sk-item {position: relative;z-index: 1;}#sk-container-id-2 div.sk-parallel {display: flex;align-items: stretch;justify-content: center;background-color: white;position: relative;}#sk-container-id-2 div.sk-item::before, #sk-container-id-2 div.sk-parallel-item::before {content: \"\";position: absolute;border-left: 1px solid gray;box-sizing: border-box;top: 0;bottom: 0;left: 50%;z-index: -1;}#sk-container-id-2 div.sk-parallel-item {display: flex;flex-direction: column;z-index: 1;position: relative;background-color: white;}#sk-container-id-2 div.sk-parallel-item:first-child::after {align-self: flex-end;width: 50%;}#sk-container-id-2 div.sk-parallel-item:last-child::after {align-self: flex-start;width: 50%;}#sk-container-id-2 div.sk-parallel-item:only-child::after {width: 0;}#sk-container-id-2 div.sk-dashed-wrapped {border: 1px dashed gray;margin: 0 0.4em 0.5em 0.4em;box-sizing: border-box;padding-bottom: 0.4em;background-color: white;}#sk-container-id-2 div.sk-label label {font-family: monospace;font-weight: bold;display: inline-block;line-height: 1.2em;}#sk-container-id-2 div.sk-label-container {text-align: center;}#sk-container-id-2 div.sk-container {/* jupyter's `normalize.less` sets `[hidden] { display: none; }` but bootstrap.min.css set `[hidden] { display: none !important; }` so we also need the `!important` here to be able to override the default hidden behavior on the sphinx rendered scikit-learn.org. See: https://github.com/scikit-learn/scikit-learn/issues/21755 */display: inline-block !important;position: relative;}#sk-container-id-2 div.sk-text-repr-fallback {display: none;}</style><div id=\"sk-container-id-2\" class=\"sk-top-container\"><div class=\"sk-text-repr-fallback\"><pre>GridSearchCV(cv=5, estimator=SVC(),\n",
       "             param_grid={&#x27;C&#x27;: [0.1, 1, 10, 100, 1000],\n",
       "                         &#x27;gamma&#x27;: [1, 0.1, 0.01, 0.001, 0.0001]},\n",
       "             verbose=3)</pre><b>In a Jupyter environment, please rerun this cell to show the HTML representation or trust the notebook. <br />On GitHub, the HTML representation is unable to render, please try loading this page with nbviewer.org.</b></div><div class=\"sk-container\" hidden><div class=\"sk-item sk-dashed-wrapped\"><div class=\"sk-label-container\"><div class=\"sk-label sk-toggleable\"><input class=\"sk-toggleable__control sk-hidden--visually\" id=\"sk-estimator-id-2\" type=\"checkbox\" ><label for=\"sk-estimator-id-2\" class=\"sk-toggleable__label sk-toggleable__label-arrow\">GridSearchCV</label><div class=\"sk-toggleable__content\"><pre>GridSearchCV(cv=5, estimator=SVC(),\n",
       "             param_grid={&#x27;C&#x27;: [0.1, 1, 10, 100, 1000],\n",
       "                         &#x27;gamma&#x27;: [1, 0.1, 0.01, 0.001, 0.0001]},\n",
       "             verbose=3)</pre></div></div></div><div class=\"sk-parallel\"><div class=\"sk-parallel-item\"><div class=\"sk-item\"><div class=\"sk-label-container\"><div class=\"sk-label sk-toggleable\"><input class=\"sk-toggleable__control sk-hidden--visually\" id=\"sk-estimator-id-3\" type=\"checkbox\" ><label for=\"sk-estimator-id-3\" class=\"sk-toggleable__label sk-toggleable__label-arrow\">estimator: SVC</label><div class=\"sk-toggleable__content\"><pre>SVC()</pre></div></div></div><div class=\"sk-serial\"><div class=\"sk-item\"><div class=\"sk-estimator sk-toggleable\"><input class=\"sk-toggleable__control sk-hidden--visually\" id=\"sk-estimator-id-4\" type=\"checkbox\" ><label for=\"sk-estimator-id-4\" class=\"sk-toggleable__label sk-toggleable__label-arrow\">SVC</label><div class=\"sk-toggleable__content\"><pre>SVC()</pre></div></div></div></div></div></div></div></div></div></div>"
      ],
      "text/plain": [
       "GridSearchCV(cv=5, estimator=SVC(),\n",
       "             param_grid={'C': [0.1, 1, 10, 100, 1000],\n",
       "                         'gamma': [1, 0.1, 0.01, 0.001, 0.0001]},\n",
       "             verbose=3)"
      ]
     },
     "execution_count": 143,
     "metadata": {},
     "output_type": "execute_result"
    }
   ],
   "source": [
    "grid.fit(x_train,y_train)"
   ]
  },
  {
   "cell_type": "code",
   "execution_count": null,
   "id": "48fe6af6-c15c-41aa-852f-85d44dc1f76b",
   "metadata": {},
   "outputs": [],
   "source": []
  }
 ],
 "metadata": {
  "kernelspec": {
   "display_name": "Python 3 (ipykernel)",
   "language": "python",
   "name": "python3"
  },
  "language_info": {
   "codemirror_mode": {
    "name": "ipython",
    "version": 3
   },
   "file_extension": ".py",
   "mimetype": "text/x-python",
   "name": "python",
   "nbconvert_exporter": "python",
   "pygments_lexer": "ipython3",
   "version": "3.10.8"
  }
 },
 "nbformat": 4,
 "nbformat_minor": 5
}
